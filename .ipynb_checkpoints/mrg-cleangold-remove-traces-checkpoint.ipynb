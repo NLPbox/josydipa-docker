{
 "cells": [
  {
   "cell_type": "code",
   "execution_count": 1,
   "metadata": {},
   "outputs": [],
   "source": [
    "import mrg2cleangold"
   ]
  },
  {
   "cell_type": "code",
   "execution_count": 2,
   "metadata": {},
   "outputs": [
    {
     "name": "stdout",
     "output_type": "stream",
     "text": [
      " (TOP (S (NP (NP (NP (DT THE) (NNP FINANCIAL) (NNP ACCOUNTING) (NNPS STANDARDS) (NNP BOARD'S)) (JJ coming) (NN rule)) (PP (IN on) (NP (NP (NN disclosure)) (VP (VBG involving) (NP (JJ financial) (NNS instruments)))))) (VP (MD will) (VP (VB be) (ADJP (JJ effective)) (PP (IN for) (NP (NP (JJ financial) (NNS statements)) (PP (IN with) (NP (NP (JJ fiscal) (NNS years)) (VP (VBG ending) (PP (IN after) (NP (NNP June) (CD 15) (, ,) (CD 1990)))))))))) (. .)))\r\n",
      " (TOP (S (NP (DT The) (NN date)) (VP (VBD was) (VP (VBN misstated) (NP (-NONE- *-1)) (PP (IN in) (NP (NP (NNP Friday) (POS 's)) (NN edition))))) (. .)))\r\n"
     ]
    }
   ],
   "source": [
    "%cat wsj_0603.mrg"
   ]
  },
  {
   "cell_type": "code",
   "execution_count": 3,
   "metadata": {},
   "outputs": [
    {
     "name": "stdout",
     "output_type": "stream",
     "text": [
      " (TOP (S (NP (NP (NP (DT THE) (NNP FINANCIAL) (NNP ACCOUNTING) (NNPS STANDARDS) (NNP BOARD'S)) (JJ coming) (NN rule)) (PP (IN on) (NP (NP (NN disclosure)) (VP (VBG involving) (NP (JJ financial) (NNS instruments)))))) (VP (MD will) (VP (VB be) (ADJP (JJ effective)) (PP (IN for) (NP (NP (JJ financial) (NNS statements)) (PP (IN with) (NP (NP (JJ fiscal) (NNS years)) (VP (VBG ending) (PP (IN after) (NP (NNP June) (CD 15) (, ,) (CD 1990)))))))))) (. .)))\r\n",
      " (TOP (S (NP (DT The) (NN date)) (VP (VBD was) (VP (VBN misstated) (PP (IN in) (NP (NP (NNP Friday) (POS 's)) (NN edition))))) (. .)))\r\n"
     ]
    }
   ],
   "source": [
    "%cat wsj_0603.patch"
   ]
  },
  {
   "cell_type": "code",
   "execution_count": 13,
   "metadata": {},
   "outputs": [],
   "source": [
    "trees = mrg2cleangold.read_mrg(\"wsj_0603.mrg\")\n",
    "# trees[1]"
   ]
  },
  {
   "cell_type": "code",
   "execution_count": 8,
   "metadata": {},
   "outputs": [],
   "source": []
  },
  {
   "cell_type": "code",
   "execution_count": null,
   "metadata": {},
   "outputs": [],
   "source": []
  }
 ],
 "metadata": {
  "kernelspec": {
   "display_name": "Python 3",
   "language": "python",
   "name": "python3"
  },
  "language_info": {
   "codemirror_mode": {
    "name": "ipython",
    "version": 3
   },
   "file_extension": ".py",
   "mimetype": "text/x-python",
   "name": "python",
   "nbconvert_exporter": "python",
   "pygments_lexer": "ipython3",
   "version": "3.7.2"
  }
 },
 "nbformat": 4,
 "nbformat_minor": 2
}
